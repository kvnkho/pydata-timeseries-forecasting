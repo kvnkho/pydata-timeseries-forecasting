{
 "cells": [
  {
   "cell_type": "markdown",
   "metadata": {},
   "source": [
    "# Fast and Scalable Timeseries Modelling with Fugue and Nixtla\n",
    "\n",
    "This tutorial will be about scaling time series modelling to Spark, Dask, and Ray. When dealing with large scale data, there are two approaches users can take. The first one is they can train a model for the whole dataset. The approach is training a model for each inidividual timeseries. \n",
    "\n",
    "Timeseries data is very friednly to distributed computing because we normally have hundreds or thousands of relatively independent data points. We can pre-process and model each one independently. This set-up allows choosing the best model for each timeseries. If we have 100 time series, it's very possible that 50 will be better modelled with ARIMA and another 50 will be better modelled with ETS.\n",
    "\n",
    "Related article: [Distributed Forecast of 1M Time Series in under 15 mins with Spark, Nixtla, and Fugue](https://towardsdatascience.com/distributed-forecast-of-1m-time-series-in-under-15-minutes-with-spark-nixtla-and-fugue-e9892da6fd5c)\n",
    "\n",
    "The main tools used in this tutorial are:\n",
    "\n",
    "[Nixtla](https://github.com/Nixtla) - The Nixtla project is focused lightning fast state-of-the-art timeseries modelling. The project has a few libraries\n",
    "* [statsforecast](https://github.com/Nixtla/statsforecast) - focused on statistic and econometric models such as ARIMA, ETS \n",
    "* [neuralforecast](https://github.com/Nixtla/neuralforecast) - neural forecasting algorithms for time series data\n",
    "* [hierarchicalforecast](https://github.com/Nixtla/hierarchicalforecast) - hierarchichal forecasting with statistical and econometric methods\n",
    "* [mlforecast](https://github.com/Nixtla/mlforecast) - using models such as gradient boosted trees for forecasting\n",
    "\n",
    "[Fugue](https://github.com/fugue-project/fugue/) - an abstraction layer for Spark, Dask, and Ray. Fugue ports code written for local execution to distributed execution.\n",
    "\n",
    "[Dask](https://github.com/dask/dask) on [Coiled](https://www.coiled.io/) - a distributed computing engine built on top of the PyData Stack.\n",
    "\n",
    "[MLFlow](https://github.com/mlflow/mlflow) - a framework for experiment tracking.\n"
   ]
  },
  {
   "cell_type": "markdown",
   "metadata": {},
   "source": [
    "## Goals \n",
    "\n",
    "1. Learn how to deal with large scale data effectively\n",
    "2. Demostrate a distributed model training available for every\n",
    "\n",
    "Not covered:\n",
    "1. Time series models for specific use cases (sparse, 0's, irregular)"
   ]
  },
  {
   "cell_type": "markdown",
   "metadata": {},
   "source": [
    "## Background on Nixtla\n",
    "\n",
    "![nixtla](../img/nixtla.png)\n",
    "\n",
    "**ARIMA**\n",
    "The AutoARIMA model implemented in StatsForecast is 20x faster than [pmdarima](http://alkaline-ml.com/pmdarima/) and 1.5x faster than R while improving accuracy.\n",
    "\n",
    "**ETS**\n",
    "StatsForecast’s ETS is 4x faster than [StatsModels’](https://www.statsmodels.org/stable/index.html) and 1.6x faster than R’s, with improved accuracy and robustness.\n",
    "\n",
    "Benchmarks at Scale\n",
    "With StatsForecast you can fit 9 benchmark models on 1,000,000 series in under 5 min. Reproduce the results [here](https://github.com/Nixtla/statsforecast/tree/main/experiments/benchmarks_at_scale)."
   ]
  },
  {
   "cell_type": "markdown",
   "metadata": {},
   "source": [
    "# Tooling\n",
    "\n",
    "![architecture](../img/architecture.png)"
   ]
  },
  {
   "cell_type": "markdown",
   "metadata": {},
   "source": [
    "## First Look at Nixtla\n",
    "\n",
    "We're going to take a quick look at Nixtla to understand the form data needs to be. "
   ]
  },
  {
   "cell_type": "code",
   "execution_count": 14,
   "metadata": {},
   "outputs": [],
   "source": [
    "import pandas as pd\n",
    "from statsforecast.utils import generate_series\n",
    "\n",
    "series = generate_series(n_series=2, seed=1)"
   ]
  },
  {
   "cell_type": "code",
   "execution_count": 15,
   "metadata": {},
   "outputs": [
    {
     "data": {
      "text/html": [
       "<div>\n",
       "<style scoped>\n",
       "    .dataframe tbody tr th:only-of-type {\n",
       "        vertical-align: middle;\n",
       "    }\n",
       "\n",
       "    .dataframe tbody tr th {\n",
       "        vertical-align: top;\n",
       "    }\n",
       "\n",
       "    .dataframe thead th {\n",
       "        text-align: right;\n",
       "    }\n",
       "</style>\n",
       "<table border=\"1\" class=\"dataframe\">\n",
       "  <thead>\n",
       "    <tr style=\"text-align: right;\">\n",
       "      <th></th>\n",
       "      <th>ds</th>\n",
       "      <th>y</th>\n",
       "    </tr>\n",
       "    <tr>\n",
       "      <th>unique_id</th>\n",
       "      <th></th>\n",
       "      <th></th>\n",
       "    </tr>\n",
       "  </thead>\n",
       "  <tbody>\n",
       "    <tr>\n",
       "      <th>0</th>\n",
       "      <td>2000-01-01</td>\n",
       "      <td>0.360162</td>\n",
       "    </tr>\n",
       "    <tr>\n",
       "      <th>0</th>\n",
       "      <td>2000-01-02</td>\n",
       "      <td>1.000057</td>\n",
       "    </tr>\n",
       "    <tr>\n",
       "      <th>0</th>\n",
       "      <td>2000-01-03</td>\n",
       "      <td>2.151166</td>\n",
       "    </tr>\n",
       "    <tr>\n",
       "      <th>0</th>\n",
       "      <td>2000-01-04</td>\n",
       "      <td>3.073378</td>\n",
       "    </tr>\n",
       "    <tr>\n",
       "      <th>0</th>\n",
       "      <td>2000-01-05</td>\n",
       "      <td>4.046169</td>\n",
       "    </tr>\n",
       "  </tbody>\n",
       "</table>\n",
       "</div>"
      ],
      "text/plain": [
       "                  ds         y\n",
       "unique_id                     \n",
       "0         2000-01-01  0.360162\n",
       "0         2000-01-02  1.000057\n",
       "0         2000-01-03  2.151166\n",
       "0         2000-01-04  3.073378\n",
       "0         2000-01-05  4.046169"
      ]
     },
     "execution_count": 15,
     "metadata": {},
     "output_type": "execute_result"
    }
   ],
   "source": [
    "series.head()"
   ]
  },
  {
   "cell_type": "code",
   "execution_count": 16,
   "metadata": {},
   "outputs": [
    {
     "ename": "KeyError",
     "evalue": "'unique_id'",
     "output_type": "error",
     "traceback": [
      "\u001b[0;31m---------------------------------------------------------------------------\u001b[0m",
      "\u001b[0;31mKeyError\u001b[0m                                  Traceback (most recent call last)",
      "File \u001b[0;32m/opt/anaconda3/envs/fugue/lib/python3.8/site-packages/pandas/core/indexes/base.py:3621\u001b[0m, in \u001b[0;36mIndex.get_loc\u001b[0;34m(self, key, method, tolerance)\u001b[0m\n\u001b[1;32m   3620\u001b[0m \u001b[39mtry\u001b[39;00m:\n\u001b[0;32m-> 3621\u001b[0m     \u001b[39mreturn\u001b[39;00m \u001b[39mself\u001b[39;49m\u001b[39m.\u001b[39;49m_engine\u001b[39m.\u001b[39;49mget_loc(casted_key)\n\u001b[1;32m   3622\u001b[0m \u001b[39mexcept\u001b[39;00m \u001b[39mKeyError\u001b[39;00m \u001b[39mas\u001b[39;00m err:\n",
      "File \u001b[0;32m/opt/anaconda3/envs/fugue/lib/python3.8/site-packages/pandas/_libs/index.pyx:136\u001b[0m, in \u001b[0;36mpandas._libs.index.IndexEngine.get_loc\u001b[0;34m()\u001b[0m\n",
      "File \u001b[0;32m/opt/anaconda3/envs/fugue/lib/python3.8/site-packages/pandas/_libs/index.pyx:163\u001b[0m, in \u001b[0;36mpandas._libs.index.IndexEngine.get_loc\u001b[0;34m()\u001b[0m\n",
      "File \u001b[0;32mpandas/_libs/hashtable_class_helper.pxi:5198\u001b[0m, in \u001b[0;36mpandas._libs.hashtable.PyObjectHashTable.get_item\u001b[0;34m()\u001b[0m\n",
      "File \u001b[0;32mpandas/_libs/hashtable_class_helper.pxi:5206\u001b[0m, in \u001b[0;36mpandas._libs.hashtable.PyObjectHashTable.get_item\u001b[0;34m()\u001b[0m\n",
      "\u001b[0;31mKeyError\u001b[0m: 'unique_id'",
      "\nThe above exception was the direct cause of the following exception:\n",
      "\u001b[0;31mKeyError\u001b[0m                                  Traceback (most recent call last)",
      "\u001b[1;32m/Users/kevinkho/Work/pydata-timeseries-forecasting/notebooks/01-introduction_to_nixtla.ipynb Cell 8\u001b[0m in \u001b[0;36m<cell line: 6>\u001b[0;34m()\u001b[0m\n\u001b[1;32m      <a href='vscode-notebook-cell:/Users/kevinkho/Work/pydata-timeseries-forecasting/notebooks/01-introduction_to_nixtla.ipynb#ch0000007?line=5'>6</a>\u001b[0m \u001b[39mfor\u001b[39;00m unique_id \u001b[39min\u001b[39;00m \u001b[39mrange\u001b[39m(\u001b[39m2\u001b[39m):\n\u001b[1;32m      <a href='vscode-notebook-cell:/Users/kevinkho/Work/pydata-timeseries-forecasting/notebooks/01-introduction_to_nixtla.ipynb#ch0000007?line=6'>7</a>\u001b[0m     plt\u001b[39m.\u001b[39mfigure()\n\u001b[0;32m----> <a href='vscode-notebook-cell:/Users/kevinkho/Work/pydata-timeseries-forecasting/notebooks/01-introduction_to_nixtla.ipynb#ch0000007?line=7'>8</a>\u001b[0m     _temp \u001b[39m=\u001b[39m series\u001b[39m.\u001b[39mloc[series[\u001b[39m'\u001b[39;49m\u001b[39munique_id\u001b[39;49m\u001b[39m'\u001b[39;49m] \u001b[39m==\u001b[39m unique_id]\n\u001b[1;32m      <a href='vscode-notebook-cell:/Users/kevinkho/Work/pydata-timeseries-forecasting/notebooks/01-introduction_to_nixtla.ipynb#ch0000007?line=8'>9</a>\u001b[0m     sns\u001b[39m.\u001b[39mlineplot(x\u001b[39m=\u001b[39m_temp[\u001b[39m'\u001b[39m\u001b[39mds\u001b[39m\u001b[39m'\u001b[39m], y\u001b[39m=\u001b[39m_temp[\u001b[39m'\u001b[39m\u001b[39my\u001b[39m\u001b[39m'\u001b[39m], ax\u001b[39m=\u001b[39maxs[unique_id])\n",
      "File \u001b[0;32m/opt/anaconda3/envs/fugue/lib/python3.8/site-packages/pandas/core/frame.py:3505\u001b[0m, in \u001b[0;36mDataFrame.__getitem__\u001b[0;34m(self, key)\u001b[0m\n\u001b[1;32m   3503\u001b[0m \u001b[39mif\u001b[39;00m \u001b[39mself\u001b[39m\u001b[39m.\u001b[39mcolumns\u001b[39m.\u001b[39mnlevels \u001b[39m>\u001b[39m \u001b[39m1\u001b[39m:\n\u001b[1;32m   3504\u001b[0m     \u001b[39mreturn\u001b[39;00m \u001b[39mself\u001b[39m\u001b[39m.\u001b[39m_getitem_multilevel(key)\n\u001b[0;32m-> 3505\u001b[0m indexer \u001b[39m=\u001b[39m \u001b[39mself\u001b[39;49m\u001b[39m.\u001b[39;49mcolumns\u001b[39m.\u001b[39;49mget_loc(key)\n\u001b[1;32m   3506\u001b[0m \u001b[39mif\u001b[39;00m is_integer(indexer):\n\u001b[1;32m   3507\u001b[0m     indexer \u001b[39m=\u001b[39m [indexer]\n",
      "File \u001b[0;32m/opt/anaconda3/envs/fugue/lib/python3.8/site-packages/pandas/core/indexes/base.py:3623\u001b[0m, in \u001b[0;36mIndex.get_loc\u001b[0;34m(self, key, method, tolerance)\u001b[0m\n\u001b[1;32m   3621\u001b[0m     \u001b[39mreturn\u001b[39;00m \u001b[39mself\u001b[39m\u001b[39m.\u001b[39m_engine\u001b[39m.\u001b[39mget_loc(casted_key)\n\u001b[1;32m   3622\u001b[0m \u001b[39mexcept\u001b[39;00m \u001b[39mKeyError\u001b[39;00m \u001b[39mas\u001b[39;00m err:\n\u001b[0;32m-> 3623\u001b[0m     \u001b[39mraise\u001b[39;00m \u001b[39mKeyError\u001b[39;00m(key) \u001b[39mfrom\u001b[39;00m \u001b[39merr\u001b[39;00m\n\u001b[1;32m   3624\u001b[0m \u001b[39mexcept\u001b[39;00m \u001b[39mTypeError\u001b[39;00m:\n\u001b[1;32m   3625\u001b[0m     \u001b[39m# If we have a listlike key, _check_indexing_error will raise\u001b[39;00m\n\u001b[1;32m   3626\u001b[0m     \u001b[39m#  InvalidIndexError. Otherwise we fall through and re-raise\u001b[39;00m\n\u001b[1;32m   3627\u001b[0m     \u001b[39m#  the TypeError.\u001b[39;00m\n\u001b[1;32m   3628\u001b[0m     \u001b[39mself\u001b[39m\u001b[39m.\u001b[39m_check_indexing_error(key)\n",
      "\u001b[0;31mKeyError\u001b[0m: 'unique_id'"
     ]
    },
    {
     "data": {
      "image/png": "[encoded data removed]",
      "text/plain": [
       "<Figure size 1152x288 with 2 Axes>"
      ]
     },
     "metadata": {
      "needs_background": "light"
     },
     "output_type": "display_data"
    },
    {
     "data": {
      "text/plain": [
       "<Figure size 432x288 with 0 Axes>"
      ]
     },
     "metadata": {},
     "output_type": "display_data"
    }
   ],
   "source": [
    "import seaborn as sns\n",
    "import matplotlib.pyplot as plt\n",
    "\n",
    "fig, axs = plt.subplots(ncols=2, figsize=(16,4))\n",
    "\n",
    "for unique_id in range(2):\n",
    "    plt.figure()\n",
    "    _temp = series.loc[series['unique_id'] == unique_id]\n",
    "    sns.lineplot(x=_temp['ds'], y=_temp['y'], ax=axs[unique_id])"
   ]
  },
  {
   "cell_type": "markdown",
   "metadata": {},
   "source": [
    "We need to reset the index for distributed backends.\n",
    "\n",
    "ETS is doing 15 models and AutoARIMA is doing 100-something models."
   ]
  },
  {
   "cell_type": "code",
   "execution_count": 17,
   "metadata": {},
   "outputs": [
    {
     "data": {
      "text/html": [
       "<div>\n",
       "<style scoped>\n",
       "    .dataframe tbody tr th:only-of-type {\n",
       "        vertical-align: middle;\n",
       "    }\n",
       "\n",
       "    .dataframe tbody tr th {\n",
       "        vertical-align: top;\n",
       "    }\n",
       "\n",
       "    .dataframe thead th {\n",
       "        text-align: right;\n",
       "    }\n",
       "</style>\n",
       "<table border=\"1\" class=\"dataframe\">\n",
       "  <thead>\n",
       "    <tr style=\"text-align: right;\">\n",
       "      <th></th>\n",
       "      <th>ds</th>\n",
       "      <th>AutoARIMA</th>\n",
       "      <th>ETS</th>\n",
       "    </tr>\n",
       "    <tr>\n",
       "      <th>unique_id</th>\n",
       "      <th></th>\n",
       "      <th></th>\n",
       "      <th></th>\n",
       "    </tr>\n",
       "  </thead>\n",
       "  <tbody>\n",
       "    <tr>\n",
       "      <th>0</th>\n",
       "      <td>2000-03-28</td>\n",
       "      <td>1.953776</td>\n",
       "      <td>3.091089</td>\n",
       "    </tr>\n",
       "    <tr>\n",
       "      <th>0</th>\n",
       "      <td>2000-03-29</td>\n",
       "      <td>1.537709</td>\n",
       "      <td>3.728740</td>\n",
       "    </tr>\n",
       "    <tr>\n",
       "      <th>0</th>\n",
       "      <td>2000-03-30</td>\n",
       "      <td>1.210246</td>\n",
       "      <td>4.366390</td>\n",
       "    </tr>\n",
       "    <tr>\n",
       "      <th>0</th>\n",
       "      <td>2000-03-31</td>\n",
       "      <td>0.952518</td>\n",
       "      <td>5.004040</td>\n",
       "    </tr>\n",
       "    <tr>\n",
       "      <th>0</th>\n",
       "      <td>2000-04-01</td>\n",
       "      <td>0.749675</td>\n",
       "      <td>5.641691</td>\n",
       "    </tr>\n",
       "  </tbody>\n",
       "</table>\n",
       "</div>"
      ],
      "text/plain": [
       "                  ds  AutoARIMA       ETS\n",
       "unique_id                                \n",
       "0         2000-03-28   1.953776  3.091089\n",
       "0         2000-03-29   1.537709  3.728740\n",
       "0         2000-03-30   1.210246  4.366390\n",
       "0         2000-03-31   0.952518  5.004040\n",
       "0         2000-04-01   0.749675  5.641691"
      ]
     },
     "execution_count": 17,
     "metadata": {},
     "output_type": "execute_result"
    }
   ],
   "source": [
    "from statsforecast.models import AutoARIMA, ETS\n",
    "from statsforecast.core import StatsForecast\n",
    "\n",
    "sf = StatsForecast(df=series,\n",
    "                   models=[AutoARIMA(), ETS()], \n",
    "                   freq='D', \n",
    "                   n_jobs=-1)\n",
    "\n",
    "forecasts = sf.forecast(7)\n",
    "forecasts.head()"
   ]
  },
  {
   "cell_type": "code",
   "execution_count": 18,
   "metadata": {},
   "outputs": [
    {
     "data": {
      "image/png": "[encoded data removed]",
      "text/plain": [
       "<Figure size 1152x288 with 2 Axes>"
      ]
     },
     "metadata": {
      "needs_background": "light"
     },
     "output_type": "display_data"
    },
    {
     "data": {
      "text/plain": [
       "<Figure size 432x288 with 0 Axes>"
      ]
     },
     "metadata": {},
     "output_type": "display_data"
    },
    {
     "data": {
      "text/plain": [
       "<Figure size 432x288 with 0 Axes>"
      ]
     },
     "metadata": {},
     "output_type": "display_data"
    }
   ],
   "source": [
    "fig, axs = plt.subplots(ncols=2, figsize=(16,4))\n",
    "combined = pd.concat(\n",
    "    [forecasts.reset_index().melt(id_vars=[\"unique_id\",\"ds\"]).rename(columns={\"variable\":\"model\", \"value\": \"y\"}),\n",
    "    series.assign(model=\"truth\")]\n",
    "    , axis=0, ignore_index=True)\n",
    "\n",
    "for unique_id in range(2):\n",
    "    plt.figure()\n",
    "    _temp = combined.loc[combined['unique_id'] == unique_id]\n",
    "    sns.lineplot(x=_temp['ds'], y=_temp['y'], hue=_temp['model'], ax=axs[unique_id])"
   ]
  },
  {
   "cell_type": "markdown",
   "metadata": {},
   "source": [
    "## Fit-Predict Interface\n",
    "\n",
    "With classical machine learning models, it's a very common approach to save the model weights with something like pickle to be loaded during prediction time. This is less common for timeseries modelling because the focus is on a lightweight train-predict when predictions are needed. This is what the `forecast()` method does.\n",
    "\n",
    "Still, Nixtla has a `scikit-learn` type `fit-predict()` interface. Below is what it would look like."
   ]
  },
  {
   "cell_type": "code",
   "execution_count": 6,
   "metadata": {},
   "outputs": [
    {
     "data": {
      "text/plain": [
       "StatsForecast(models=[AutoARIMA,ETS])"
      ]
     },
     "execution_count": 6,
     "metadata": {},
     "output_type": "execute_result"
    }
   ],
   "source": [
    "model = StatsForecast(df=series,\n",
    "                      models=[AutoARIMA(), ETS()], \n",
    "                      freq='D', \n",
    "                      n_jobs=-1)\n",
    "model.fit()"
   ]
  },
  {
   "cell_type": "markdown",
   "metadata": {},
   "source": [
    "The predict function will just take in a horizon. \n",
    "\n",
    "There is an overhead to test multiple models."
   ]
  },
  {
   "cell_type": "code",
   "execution_count": 7,
   "metadata": {},
   "outputs": [
    {
     "data": {
      "text/html": [
       "<div>\n",
       "<style scoped>\n",
       "    .dataframe tbody tr th:only-of-type {\n",
       "        vertical-align: middle;\n",
       "    }\n",
       "\n",
       "    .dataframe tbody tr th {\n",
       "        vertical-align: top;\n",
       "    }\n",
       "\n",
       "    .dataframe thead th {\n",
       "        text-align: right;\n",
       "    }\n",
       "</style>\n",
       "<table border=\"1\" class=\"dataframe\">\n",
       "  <thead>\n",
       "    <tr style=\"text-align: right;\">\n",
       "      <th></th>\n",
       "      <th>ds</th>\n",
       "      <th>AutoARIMA</th>\n",
       "      <th>ETS</th>\n",
       "    </tr>\n",
       "    <tr>\n",
       "      <th>unique_id</th>\n",
       "      <th></th>\n",
       "      <th></th>\n",
       "      <th></th>\n",
       "    </tr>\n",
       "  </thead>\n",
       "  <tbody>\n",
       "    <tr>\n",
       "      <th>0</th>\n",
       "      <td>2000-03-28</td>\n",
       "      <td>1.953776</td>\n",
       "      <td>3.091089</td>\n",
       "    </tr>\n",
       "    <tr>\n",
       "      <th>0</th>\n",
       "      <td>2000-03-29</td>\n",
       "      <td>1.537709</td>\n",
       "      <td>3.728740</td>\n",
       "    </tr>\n",
       "    <tr>\n",
       "      <th>0</th>\n",
       "      <td>2000-03-30</td>\n",
       "      <td>1.210246</td>\n",
       "      <td>4.366390</td>\n",
       "    </tr>\n",
       "    <tr>\n",
       "      <th>0</th>\n",
       "      <td>2000-03-31</td>\n",
       "      <td>0.952518</td>\n",
       "      <td>5.004040</td>\n",
       "    </tr>\n",
       "    <tr>\n",
       "      <th>0</th>\n",
       "      <td>2000-04-01</td>\n",
       "      <td>0.749675</td>\n",
       "      <td>5.641691</td>\n",
       "    </tr>\n",
       "    <tr>\n",
       "      <th>0</th>\n",
       "      <td>2000-04-02</td>\n",
       "      <td>0.590028</td>\n",
       "      <td>6.279341</td>\n",
       "    </tr>\n",
       "    <tr>\n",
       "      <th>0</th>\n",
       "      <td>2000-04-03</td>\n",
       "      <td>0.464378</td>\n",
       "      <td>6.916991</td>\n",
       "    </tr>\n",
       "    <tr>\n",
       "      <th>1</th>\n",
       "      <td>2000-10-12</td>\n",
       "      <td>0.991102</td>\n",
       "      <td>0.959451</td>\n",
       "    </tr>\n",
       "    <tr>\n",
       "      <th>1</th>\n",
       "      <td>2000-10-13</td>\n",
       "      <td>1.048649</td>\n",
       "      <td>1.575038</td>\n",
       "    </tr>\n",
       "    <tr>\n",
       "      <th>1</th>\n",
       "      <td>2000-10-14</td>\n",
       "      <td>2.135209</td>\n",
       "      <td>2.190625</td>\n",
       "    </tr>\n",
       "    <tr>\n",
       "      <th>1</th>\n",
       "      <td>2000-10-15</td>\n",
       "      <td>0.097534</td>\n",
       "      <td>2.806211</td>\n",
       "    </tr>\n",
       "    <tr>\n",
       "      <th>1</th>\n",
       "      <td>2000-10-16</td>\n",
       "      <td>0.678370</td>\n",
       "      <td>3.421798</td>\n",
       "    </tr>\n",
       "    <tr>\n",
       "      <th>1</th>\n",
       "      <td>2000-10-17</td>\n",
       "      <td>1.162318</td>\n",
       "      <td>4.037385</td>\n",
       "    </tr>\n",
       "    <tr>\n",
       "      <th>1</th>\n",
       "      <td>2000-10-18</td>\n",
       "      <td>0.666706</td>\n",
       "      <td>4.652971</td>\n",
       "    </tr>\n",
       "  </tbody>\n",
       "</table>\n",
       "</div>"
      ],
      "text/plain": [
       "                  ds  AutoARIMA       ETS\n",
       "unique_id                                \n",
       "0         2000-03-28   1.953776  3.091089\n",
       "0         2000-03-29   1.537709  3.728740\n",
       "0         2000-03-30   1.210246  4.366390\n",
       "0         2000-03-31   0.952518  5.004040\n",
       "0         2000-04-01   0.749675  5.641691\n",
       "0         2000-04-02   0.590028  6.279341\n",
       "0         2000-04-03   0.464378  6.916991\n",
       "1         2000-10-12   0.991102  0.959451\n",
       "1         2000-10-13   1.048649  1.575038\n",
       "1         2000-10-14   2.135209  2.190625\n",
       "1         2000-10-15   0.097534  2.806211\n",
       "1         2000-10-16   0.678370  3.421798\n",
       "1         2000-10-17   1.162318  4.037385\n",
       "1         2000-10-18   0.666706  4.652971"
      ]
     },
     "execution_count": 7,
     "metadata": {},
     "output_type": "execute_result"
    }
   ],
   "source": [
    "model.predict(h=7)"
   ]
  },
  {
   "cell_type": "markdown",
   "metadata": {},
   "source": [
    "After the fitting, the `StatsForecast` object will contain the fitted models for each unique id. Note that you can't train on timeseries A, and predict on a different timeseries B (yet)."
   ]
  },
  {
   "cell_type": "code",
   "execution_count": 8,
   "metadata": {},
   "outputs": [
    {
     "data": {
      "text/plain": [
       "array([[AutoARIMA, ETS],\n",
       "       [AutoARIMA, ETS]], dtype=object)"
      ]
     },
     "execution_count": 8,
     "metadata": {},
     "output_type": "execute_result"
    }
   ],
   "source": [
    "model.fitted_"
   ]
  },
  {
   "cell_type": "code",
   "execution_count": 9,
   "metadata": {},
   "outputs": [
    {
     "data": {
      "text/plain": [
       "{'coef': {'ar1': 0.7870449090657271},\n",
       " 'sigma2': 5.325976321719269,\n",
       " 'var_coef': array([[0.00011463]]),\n",
       " 'mask': array([ True]),\n",
       " 'loglik': -195.6769619985521,\n",
       " 'aic': 395.3539239971042,\n",
       " 'arma': (1, 0, 0, 0, 1, 0, 0),\n",
       " 'residuals': array([ 0.22218255,  0.71659335,  1.36407626,  1.38031344,  1.62728289,\n",
       "         1.90861318,  2.16425839, -4.65987174,  1.11327144,  1.21051597,\n",
       "         1.6035573 ,  1.47144235,  2.21042249,  1.73291029, -4.39781335,\n",
       "         0.94480836,  1.3280811 ,  1.27624681,  1.68267033,  2.17423566,\n",
       "         2.23379517, -4.9465901 ,  1.22282192,  1.37870506,  1.52833472,\n",
       "         1.32933945,  1.83788111,  2.13432165, -4.35003026,  0.70360469,\n",
       "         1.38480724,  1.7391396 ,  1.52849671,  1.98794666,  1.95026393,\n",
       "        -4.50318144,  1.14715934,  0.8936552 ,  1.79378563,  1.83809712,\n",
       "         1.83676436,  1.91057737, -4.43799085,  0.74101383,  1.39628017,\n",
       "         1.70395177,  1.42811971,  1.88016403,  2.01654388, -4.7637552 ,\n",
       "         1.33179648,  1.05163201,  1.47540323,  1.78015331,  1.68505664,\n",
       "         2.33083481, -4.87483336,  1.23691183,  1.33092935,  1.20170674,\n",
       "         1.80562226,  2.03608002,  1.99860295, -4.8602814 ,  1.24829034,\n",
       "         1.33396512,  1.42213675,  1.90854199,  1.773379  ,  2.28565387,\n",
       "        -5.00904121,  1.01553875,  1.56184234,  1.3070221 ,  1.56504735,\n",
       "         2.25050412,  1.87366305, -4.4837171 ,  1.06753754,  1.36891162,\n",
       "         1.39014543,  1.76890745,  1.7307567 ,  2.06244027, -4.38054905,\n",
       "         0.86149429,  1.52691152]),\n",
       " 'code': 0,\n",
       " 'n_cond': 0,\n",
       " 'nobs': 87,\n",
       " 'model': {'phi': array([0.78704491]),\n",
       "  'theta': array([], dtype=float64),\n",
       "  'delta': array([], dtype=float64),\n",
       "  'Z': array([1.]),\n",
       "  'a': array([2.48241997]),\n",
       "  'P': array([[0.]]),\n",
       "  'T': array([[0.78704491]]),\n",
       "  'V': array([[1.]]),\n",
       "  'h': 0.0,\n",
       "  'Pn': array([[1.]])},\n",
       " 'bic': 400.2626185896112,\n",
       " 'aicc': 395.4985023103572,\n",
       " 'ic': None,\n",
       " 'xreg': None,\n",
       " 'x': array([0.36016226, 1.0000572 , 2.1511662 , 3.0733778 , 4.0461693 ,\n",
       "        5.09313   , 6.1727805 , 0.19838373, 1.2694083 , 2.2095973 ,\n",
       "        3.3426096 , 4.1022263 , 5.439059  , 6.013694  , 0.33523375,\n",
       "        1.2086524 , 2.2793448 , 3.0701935 , 4.0990505 , 5.4003725 ,\n",
       "        6.484131  , 0.15671209, 1.3461614 , 2.4381945 , 3.4473033 ,\n",
       "        4.042522  , 5.0195274 , 6.084915  , 0.43907124, 1.0491735 ,\n",
       "        2.210554  , 3.4789448 , 4.2665825 , 5.3459387 , 6.1577578 ,\n",
       "        0.34325045, 1.4173129 , 2.009144  , 3.3750722 , 4.4944305 ,\n",
       "        5.374083  , 6.140222  , 0.39463967, 1.051613  , 2.2239468 ,\n",
       "        3.4542978 , 4.146807  , 5.1438875 , 6.0650144 , 0.00968348,\n",
       "        1.3394178 , 2.105814  , 3.1327734 , 4.2457867 , 5.0266814 ,\n",
       "        6.287059  , 0.07336429, 1.2946528 , 2.3498793 , 3.0511672 ,\n",
       "        4.207028  , 5.3472    , 6.2070894 , 0.02497673, 1.2679482 ,\n",
       "        2.3318973 , 3.2574446 , 4.472297  , 5.2932777 , 6.451701  ,\n",
       "        0.06873735, 1.0696381 , 2.4036956 , 3.1988385 , 4.082677  ,\n",
       "        5.463754  , 6.173883  , 0.37540606, 1.362999  , 2.441653  ,\n",
       "        3.311836  , 4.375471  , 5.174449  , 6.134964  , 0.44794312,\n",
       "        1.2140456 , 2.48242   ], dtype=float32),\n",
       " 'lambda': None}"
      ]
     },
     "execution_count": 9,
     "metadata": {},
     "output_type": "execute_result"
    }
   ],
   "source": [
    "model.fitted_[0][0].model_"
   ]
  },
  {
   "cell_type": "markdown",
   "metadata": {},
   "source": [
    "## FugueBackend to Run on Spark, Dask, and Ray"
   ]
  },
  {
   "cell_type": "code",
   "execution_count": 10,
   "metadata": {},
   "outputs": [
    {
     "data": {
      "text/html": [
       "<div>\n",
       "<style scoped>\n",
       "    .dataframe tbody tr th:only-of-type {\n",
       "        vertical-align: middle;\n",
       "    }\n",
       "\n",
       "    .dataframe tbody tr th {\n",
       "        vertical-align: top;\n",
       "    }\n",
       "\n",
       "    .dataframe thead th {\n",
       "        text-align: right;\n",
       "    }\n",
       "</style>\n",
       "<table border=\"1\" class=\"dataframe\">\n",
       "  <thead>\n",
       "    <tr style=\"text-align: right;\">\n",
       "      <th></th>\n",
       "      <th>unique_id</th>\n",
       "      <th>ds</th>\n",
       "      <th>y</th>\n",
       "    </tr>\n",
       "  </thead>\n",
       "  <tbody>\n",
       "    <tr>\n",
       "      <th>0</th>\n",
       "      <td>0</td>\n",
       "      <td>2000-01-01</td>\n",
       "      <td>0.296533</td>\n",
       "    </tr>\n",
       "    <tr>\n",
       "      <th>1</th>\n",
       "      <td>0</td>\n",
       "      <td>2000-01-02</td>\n",
       "      <td>1.335827</td>\n",
       "    </tr>\n",
       "    <tr>\n",
       "      <th>2</th>\n",
       "      <td>0</td>\n",
       "      <td>2000-01-03</td>\n",
       "      <td>2.205894</td>\n",
       "    </tr>\n",
       "    <tr>\n",
       "      <th>3</th>\n",
       "      <td>0</td>\n",
       "      <td>2000-01-04</td>\n",
       "      <td>3.098775</td>\n",
       "    </tr>\n",
       "    <tr>\n",
       "      <th>4</th>\n",
       "      <td>0</td>\n",
       "      <td>2000-01-05</td>\n",
       "      <td>4.144815</td>\n",
       "    </tr>\n",
       "    <tr>\n",
       "      <th>...</th>\n",
       "      <td>...</td>\n",
       "      <td>...</td>\n",
       "      <td>...</td>\n",
       "    </tr>\n",
       "    <tr>\n",
       "      <th>14087</th>\n",
       "      <td>49</td>\n",
       "      <td>2000-03-16</td>\n",
       "      <td>3.429861</td>\n",
       "    </tr>\n",
       "    <tr>\n",
       "      <th>14088</th>\n",
       "      <td>49</td>\n",
       "      <td>2000-03-17</td>\n",
       "      <td>4.191251</td>\n",
       "    </tr>\n",
       "    <tr>\n",
       "      <th>14089</th>\n",
       "      <td>49</td>\n",
       "      <td>2000-03-18</td>\n",
       "      <td>5.358637</td>\n",
       "    </tr>\n",
       "    <tr>\n",
       "      <th>14090</th>\n",
       "      <td>49</td>\n",
       "      <td>2000-03-19</td>\n",
       "      <td>6.100164</td>\n",
       "    </tr>\n",
       "    <tr>\n",
       "      <th>14091</th>\n",
       "      <td>49</td>\n",
       "      <td>2000-03-20</td>\n",
       "      <td>0.410749</td>\n",
       "    </tr>\n",
       "  </tbody>\n",
       "</table>\n",
       "<p>14092 rows × 3 columns</p>\n",
       "</div>"
      ],
      "text/plain": [
       "      unique_id         ds         y\n",
       "0             0 2000-01-01  0.296533\n",
       "1             0 2000-01-02  1.335827\n",
       "2             0 2000-01-03  2.205894\n",
       "3             0 2000-01-04  3.098775\n",
       "4             0 2000-01-05  4.144815\n",
       "...         ...        ...       ...\n",
       "14087        49 2000-03-16  3.429861\n",
       "14088        49 2000-03-17  4.191251\n",
       "14089        49 2000-03-18  5.358637\n",
       "14090        49 2000-03-19  6.100164\n",
       "14091        49 2000-03-20  0.410749\n",
       "\n",
       "[14092 rows x 3 columns]"
      ]
     },
     "execution_count": 10,
     "metadata": {},
     "output_type": "execute_result"
    }
   ],
   "source": [
    "series = generate_series(n_series=50, seed=1).reset_index()\n",
    "series['unique_id'] = series['unique_id'].astype(int)\n",
    "series"
   ]
  },
  {
   "cell_type": "code",
   "execution_count": 11,
   "metadata": {},
   "outputs": [],
   "source": [
    "from dask.distributed import Client, LocalCluster\n",
    "from statsforecast.distributed.utils import forecast\n",
    "from statsforecast.distributed.fugue import FugueBackend\n",
    "\n",
    "cluster = LocalCluster(threads_per_worker=1)\n",
    "client = Client(cluster)\n",
    "\n",
    "backend = FugueBackend(client)\n",
    "\n",
    "result = forecast(series, \n",
    "                  models=[AutoARIMA()], \n",
    "                  freq=\"D\", \n",
    "                  h=7, \n",
    "                  parallel=backend)"
   ]
  },
  {
   "cell_type": "code",
   "execution_count": 12,
   "metadata": {},
   "outputs": [
    {
     "data": {
      "text/plain": [
       "dask.dataframe.core.DataFrame"
      ]
     },
     "execution_count": 12,
     "metadata": {},
     "output_type": "execute_result"
    }
   ],
   "source": [
    "type(result)"
   ]
  },
  {
   "cell_type": "code",
   "execution_count": 13,
   "metadata": {},
   "outputs": [
    {
     "data": {
      "text/html": [
       "<div>\n",
       "<style scoped>\n",
       "    .dataframe tbody tr th:only-of-type {\n",
       "        vertical-align: middle;\n",
       "    }\n",
       "\n",
       "    .dataframe tbody tr th {\n",
       "        vertical-align: top;\n",
       "    }\n",
       "\n",
       "    .dataframe thead th {\n",
       "        text-align: right;\n",
       "    }\n",
       "</style>\n",
       "<table border=\"1\" class=\"dataframe\">\n",
       "  <thead>\n",
       "    <tr style=\"text-align: right;\">\n",
       "      <th></th>\n",
       "      <th>unique_id</th>\n",
       "      <th>ds</th>\n",
       "      <th>AutoARIMA</th>\n",
       "    </tr>\n",
       "  </thead>\n",
       "  <tbody>\n",
       "    <tr>\n",
       "      <th>0</th>\n",
       "      <td>17</td>\n",
       "      <td>2000-11-22</td>\n",
       "      <td>3.135941</td>\n",
       "    </tr>\n",
       "    <tr>\n",
       "      <th>1</th>\n",
       "      <td>17</td>\n",
       "      <td>2000-11-23</td>\n",
       "      <td>2.923205</td>\n",
       "    </tr>\n",
       "    <tr>\n",
       "      <th>2</th>\n",
       "      <td>17</td>\n",
       "      <td>2000-11-24</td>\n",
       "      <td>3.732668</td>\n",
       "    </tr>\n",
       "    <tr>\n",
       "      <th>3</th>\n",
       "      <td>17</td>\n",
       "      <td>2000-11-25</td>\n",
       "      <td>2.944710</td>\n",
       "    </tr>\n",
       "    <tr>\n",
       "      <th>4</th>\n",
       "      <td>17</td>\n",
       "      <td>2000-11-26</td>\n",
       "      <td>0.000000</td>\n",
       "    </tr>\n",
       "  </tbody>\n",
       "</table>\n",
       "</div>"
      ],
      "text/plain": [
       "   unique_id         ds  AutoARIMA\n",
       "0         17 2000-11-22   3.135941\n",
       "1         17 2000-11-23   2.923205\n",
       "2         17 2000-11-24   3.732668\n",
       "3         17 2000-11-25   2.944710\n",
       "4         17 2000-11-26   0.000000"
      ]
     },
     "execution_count": 13,
     "metadata": {},
     "output_type": "execute_result"
    }
   ],
   "source": [
    "result.compute().head()"
   ]
  }
 ],
 "metadata": {
  "kernelspec": {
   "display_name": "Python 3.8.13 ('fugue')",
   "language": "python",
   "name": "python3"
  },
  "language_info": {
   "codemirror_mode": {
    "name": "ipython",
    "version": 3
   },
   "file_extension": ".py",
   "mimetype": "text/x-python",
   "name": "python",
   "nbconvert_exporter": "python",
   "pygments_lexer": "ipython3",
   "version": "3.8.13"
  },
  "vscode": {
   "interpreter": {
    "hash": "9fcd6e71927f6b3e5f4fa4280b4e8e6a66aa8d4365bb61cf7ef4017620fc09b9"
   }
  }
 },
 "nbformat": 4,
 "nbformat_minor": 2
}
